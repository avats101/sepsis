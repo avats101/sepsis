{
 "cells": [
  {
   "cell_type": "code",
   "execution_count": 1,
   "metadata": {},
   "outputs": [],
   "source": [
    "import pandas as pd"
   ]
  },
  {
   "cell_type": "code",
   "execution_count": 19,
   "metadata": {},
   "outputs": [],
   "source": [
    "# main = pd.read_csv('Netea_impaired_combat_corrected_data.csv').T\n",
    "# main = pd.read_csv('Khatri_combat_corrected_data.csv').T\n",
    "\n",
    "main = pd.read_csv('Netea_balanced_combat_corrected_data.csv').T\n",
    "\n",
    "\n",
    "\n",
    "\n",
    "# main=pd.read_csv('main.csv')\n",
    "main = main.rename(columns=main.iloc[0]).drop(main.index[0])\n",
    "\n",
    "meta = pd.read_csv('meta.csv',index_col=0)"
   ]
  },
  {
   "cell_type": "code",
   "execution_count": 20,
   "metadata": {},
   "outputs": [
    {
     "data": {
      "text/plain": [
       "(1274, 194)"
      ]
     },
     "execution_count": 20,
     "metadata": {},
     "output_type": "execute_result"
    }
   ],
   "source": [
    "main.shape\n"
   ]
  },
  {
   "cell_type": "code",
   "execution_count": 21,
   "metadata": {},
   "outputs": [
    {
     "data": {
      "text/html": [
       "<div>\n",
       "<style scoped>\n",
       "    .dataframe tbody tr th:only-of-type {\n",
       "        vertical-align: middle;\n",
       "    }\n",
       "\n",
       "    .dataframe tbody tr th {\n",
       "        vertical-align: top;\n",
       "    }\n",
       "\n",
       "    .dataframe thead th {\n",
       "        text-align: right;\n",
       "    }\n",
       "</style>\n",
       "<table border=\"1\" class=\"dataframe\">\n",
       "  <thead>\n",
       "    <tr style=\"text-align: right;\">\n",
       "      <th></th>\n",
       "      <th>ABCE1</th>\n",
       "      <th>AEBP2</th>\n",
       "      <th>ALG8</th>\n",
       "      <th>ATR</th>\n",
       "      <th>BCAS2</th>\n",
       "      <th>BTBD1</th>\n",
       "      <th>BTF3L4</th>\n",
       "      <th>BUB3</th>\n",
       "      <th>BZW2</th>\n",
       "      <th>C1QBP</th>\n",
       "      <th>...</th>\n",
       "      <th>ZFP1</th>\n",
       "      <th>ZHX1</th>\n",
       "      <th>ZMYM4</th>\n",
       "      <th>ZNF14</th>\n",
       "      <th>ZNF227</th>\n",
       "      <th>ZNF432</th>\n",
       "      <th>ZNF559</th>\n",
       "      <th>ZNF567</th>\n",
       "      <th>ZNF75A</th>\n",
       "      <th>ZZZ3</th>\n",
       "    </tr>\n",
       "  </thead>\n",
       "  <tbody>\n",
       "    <tr>\n",
       "      <th>CAP0001</th>\n",
       "      <td>5.770311</td>\n",
       "      <td>4.58961</td>\n",
       "      <td>5.652066</td>\n",
       "      <td>3.353692</td>\n",
       "      <td>4.284542</td>\n",
       "      <td>5.775141</td>\n",
       "      <td>6.736516</td>\n",
       "      <td>5.665864</td>\n",
       "      <td>6.787793</td>\n",
       "      <td>7.921607</td>\n",
       "      <td>...</td>\n",
       "      <td>4.000293</td>\n",
       "      <td>4.18044</td>\n",
       "      <td>5.688253</td>\n",
       "      <td>6.492971</td>\n",
       "      <td>5.059673</td>\n",
       "      <td>4.155566</td>\n",
       "      <td>5.319324</td>\n",
       "      <td>3.188752</td>\n",
       "      <td>5.539237</td>\n",
       "      <td>5.376234</td>\n",
       "    </tr>\n",
       "    <tr>\n",
       "      <th>CAP0002</th>\n",
       "      <td>5.533009</td>\n",
       "      <td>4.287022</td>\n",
       "      <td>5.273277</td>\n",
       "      <td>3.790109</td>\n",
       "      <td>4.702455</td>\n",
       "      <td>5.760993</td>\n",
       "      <td>5.186812</td>\n",
       "      <td>5.436241</td>\n",
       "      <td>6.230216</td>\n",
       "      <td>7.538863</td>\n",
       "      <td>...</td>\n",
       "      <td>3.780165</td>\n",
       "      <td>4.292046</td>\n",
       "      <td>4.38135</td>\n",
       "      <td>7.843215</td>\n",
       "      <td>4.518375</td>\n",
       "      <td>3.471271</td>\n",
       "      <td>4.040525</td>\n",
       "      <td>2.591724</td>\n",
       "      <td>5.180422</td>\n",
       "      <td>4.868028</td>\n",
       "    </tr>\n",
       "    <tr>\n",
       "      <th>CAP0003</th>\n",
       "      <td>5.695098</td>\n",
       "      <td>5.181174</td>\n",
       "      <td>5.882368</td>\n",
       "      <td>3.616235</td>\n",
       "      <td>4.164561</td>\n",
       "      <td>5.592875</td>\n",
       "      <td>5.937123</td>\n",
       "      <td>5.918471</td>\n",
       "      <td>6.309521</td>\n",
       "      <td>7.661305</td>\n",
       "      <td>...</td>\n",
       "      <td>2.117659</td>\n",
       "      <td>3.882586</td>\n",
       "      <td>5.544296</td>\n",
       "      <td>6.85042</td>\n",
       "      <td>4.895723</td>\n",
       "      <td>4.68541</td>\n",
       "      <td>5.318127</td>\n",
       "      <td>4.562189</td>\n",
       "      <td>5.528094</td>\n",
       "      <td>5.217875</td>\n",
       "    </tr>\n",
       "    <tr>\n",
       "      <th>CAP0004</th>\n",
       "      <td>6.198338</td>\n",
       "      <td>5.296979</td>\n",
       "      <td>6.007996</td>\n",
       "      <td>3.847902</td>\n",
       "      <td>5.057245</td>\n",
       "      <td>5.960527</td>\n",
       "      <td>6.407928</td>\n",
       "      <td>6.374387</td>\n",
       "      <td>6.777255</td>\n",
       "      <td>7.987149</td>\n",
       "      <td>...</td>\n",
       "      <td>3.591091</td>\n",
       "      <td>4.924397</td>\n",
       "      <td>5.948193</td>\n",
       "      <td>7.185452</td>\n",
       "      <td>5.226771</td>\n",
       "      <td>3.840383</td>\n",
       "      <td>5.871458</td>\n",
       "      <td>4.114712</td>\n",
       "      <td>4.457478</td>\n",
       "      <td>5.559887</td>\n",
       "    </tr>\n",
       "    <tr>\n",
       "      <th>CAP0005</th>\n",
       "      <td>4.393348</td>\n",
       "      <td>5.133299</td>\n",
       "      <td>5.112961</td>\n",
       "      <td>2.570163</td>\n",
       "      <td>5.432136</td>\n",
       "      <td>5.673157</td>\n",
       "      <td>6.683321</td>\n",
       "      <td>4.896105</td>\n",
       "      <td>6.05443</td>\n",
       "      <td>7.064439</td>\n",
       "      <td>...</td>\n",
       "      <td>3.287139</td>\n",
       "      <td>3.775436</td>\n",
       "      <td>4.909883</td>\n",
       "      <td>6.948592</td>\n",
       "      <td>4.233512</td>\n",
       "      <td>4.323946</td>\n",
       "      <td>5.239863</td>\n",
       "      <td>3.363389</td>\n",
       "      <td>5.0194</td>\n",
       "      <td>4.329254</td>\n",
       "    </tr>\n",
       "  </tbody>\n",
       "</table>\n",
       "<p>5 rows × 194 columns</p>\n",
       "</div>"
      ],
      "text/plain": [
       "            ABCE1     AEBP2      ALG8       ATR     BCAS2     BTBD1    BTF3L4  \\\n",
       "CAP0001  5.770311   4.58961  5.652066  3.353692  4.284542  5.775141  6.736516   \n",
       "CAP0002  5.533009  4.287022  5.273277  3.790109  4.702455  5.760993  5.186812   \n",
       "CAP0003  5.695098  5.181174  5.882368  3.616235  4.164561  5.592875  5.937123   \n",
       "CAP0004  6.198338  5.296979  6.007996  3.847902  5.057245  5.960527  6.407928   \n",
       "CAP0005  4.393348  5.133299  5.112961  2.570163  5.432136  5.673157  6.683321   \n",
       "\n",
       "             BUB3      BZW2     C1QBP  ...      ZFP1      ZHX1     ZMYM4  \\\n",
       "CAP0001  5.665864  6.787793  7.921607  ...  4.000293   4.18044  5.688253   \n",
       "CAP0002  5.436241  6.230216  7.538863  ...  3.780165  4.292046   4.38135   \n",
       "CAP0003  5.918471  6.309521  7.661305  ...  2.117659  3.882586  5.544296   \n",
       "CAP0004  6.374387  6.777255  7.987149  ...  3.591091  4.924397  5.948193   \n",
       "CAP0005  4.896105   6.05443  7.064439  ...  3.287139  3.775436  4.909883   \n",
       "\n",
       "            ZNF14    ZNF227    ZNF432    ZNF559    ZNF567    ZNF75A      ZZZ3  \n",
       "CAP0001  6.492971  5.059673  4.155566  5.319324  3.188752  5.539237  5.376234  \n",
       "CAP0002  7.843215  4.518375  3.471271  4.040525  2.591724  5.180422  4.868028  \n",
       "CAP0003   6.85042  4.895723   4.68541  5.318127  4.562189  5.528094  5.217875  \n",
       "CAP0004  7.185452  5.226771  3.840383  5.871458  4.114712  4.457478  5.559887  \n",
       "CAP0005  6.948592  4.233512  4.323946  5.239863  3.363389    5.0194  4.329254  \n",
       "\n",
       "[5 rows x 194 columns]"
      ]
     },
     "execution_count": 21,
     "metadata": {},
     "output_type": "execute_result"
    }
   ],
   "source": [
    "main.head()"
   ]
  },
  {
   "cell_type": "code",
   "execution_count": 15,
   "metadata": {},
   "outputs": [
    {
     "data": {
      "text/plain": [
       "(1290, 3)"
      ]
     },
     "execution_count": 15,
     "metadata": {},
     "output_type": "execute_result"
    }
   ],
   "source": [
    "meta.shape"
   ]
  },
  {
   "cell_type": "code",
   "execution_count": 16,
   "metadata": {},
   "outputs": [
    {
     "data": {
      "text/html": [
       "<div>\n",
       "<style scoped>\n",
       "    .dataframe tbody tr th:only-of-type {\n",
       "        vertical-align: middle;\n",
       "    }\n",
       "\n",
       "    .dataframe tbody tr th {\n",
       "        vertical-align: top;\n",
       "    }\n",
       "\n",
       "    .dataframe thead th {\n",
       "        text-align: right;\n",
       "    }\n",
       "</style>\n",
       "<table border=\"1\" class=\"dataframe\">\n",
       "  <thead>\n",
       "    <tr style=\"text-align: right;\">\n",
       "      <th></th>\n",
       "      <th>Age</th>\n",
       "      <th>Gender</th>\n",
       "      <th>Mortality</th>\n",
       "    </tr>\n",
       "    <tr>\n",
       "      <th>Sample_Name</th>\n",
       "      <th></th>\n",
       "      <th></th>\n",
       "      <th></th>\n",
       "    </tr>\n",
       "  </thead>\n",
       "  <tbody>\n",
       "    <tr>\n",
       "      <th>CAP0001</th>\n",
       "      <td>70</td>\n",
       "      <td>0</td>\n",
       "      <td>1</td>\n",
       "    </tr>\n",
       "    <tr>\n",
       "      <th>CAP0002</th>\n",
       "      <td>64</td>\n",
       "      <td>0</td>\n",
       "      <td>0</td>\n",
       "    </tr>\n",
       "    <tr>\n",
       "      <th>CAP0003</th>\n",
       "      <td>47</td>\n",
       "      <td>0</td>\n",
       "      <td>0</td>\n",
       "    </tr>\n",
       "    <tr>\n",
       "      <th>CAP0004</th>\n",
       "      <td>71</td>\n",
       "      <td>1</td>\n",
       "      <td>0</td>\n",
       "    </tr>\n",
       "    <tr>\n",
       "      <th>CAP0005</th>\n",
       "      <td>45</td>\n",
       "      <td>0</td>\n",
       "      <td>0</td>\n",
       "    </tr>\n",
       "  </tbody>\n",
       "</table>\n",
       "</div>"
      ],
      "text/plain": [
       "             Age  Gender  Mortality\n",
       "Sample_Name                        \n",
       "CAP0001       70       0          1\n",
       "CAP0002       64       0          0\n",
       "CAP0003       47       0          0\n",
       "CAP0004       71       1          0\n",
       "CAP0005       45       0          0"
      ]
     },
     "execution_count": 16,
     "metadata": {},
     "output_type": "execute_result"
    }
   ],
   "source": [
    "meta.head()"
   ]
  },
  {
   "cell_type": "code",
   "execution_count": 22,
   "metadata": {},
   "outputs": [],
   "source": [
    "data= pd.merge(main,meta,left_index=True, right_index=True, how='left')\n",
    "data.to_csv('Netea_balanced_combat_corrected_data_with_meta.csv', index=False)"
   ]
  },
  {
   "cell_type": "code",
   "execution_count": 23,
   "metadata": {},
   "outputs": [
    {
     "data": {
      "text/plain": [
       "(1274, 197)"
      ]
     },
     "execution_count": 23,
     "metadata": {},
     "output_type": "execute_result"
    }
   ],
   "source": [
    "data=pd.read_csv(\"Netea_balanced_combat_corrected_data_with_meta.csv\")\n",
    "data.shape"
   ]
  }
 ],
 "metadata": {
  "kernelspec": {
   "display_name": "Python 3",
   "language": "python",
   "name": "python3"
  },
  "language_info": {
   "codemirror_mode": {
    "name": "ipython",
    "version": 3
   },
   "file_extension": ".py",
   "mimetype": "text/x-python",
   "name": "python",
   "nbconvert_exporter": "python",
   "pygments_lexer": "ipython3",
   "version": "3.12.8"
  }
 },
 "nbformat": 4,
 "nbformat_minor": 2
}
