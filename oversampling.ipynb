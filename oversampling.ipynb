{
 "cells": [
  {
   "cell_type": "markdown",
   "metadata": {},
   "source": [
    "#### Import Packages"
   ]
  },
  {
   "cell_type": "code",
   "execution_count": 1,
   "metadata": {},
   "outputs": [],
   "source": [
    "import pandas as pd\n",
    "import numpy as np\n",
    "from sklearn.metrics import roc_curve, roc_auc_score, accuracy_score, balanced_accuracy_score, f1_score, precision_recall_curve, recall_score, precision_score, confusion_matrix, ConfusionMatrixDisplay\n",
    "from scipy.stats import loguniform\n",
    "from sklearn.model_selection import train_test_split, GridSearchCV,  StratifiedKFold\n",
    "from sklearn.linear_model import LogisticRegression\n",
    "from sklearn.ensemble import RandomForestClassifier, BaggingClassifier, StackingClassifier\n",
    "from sklearn.neighbors import KNeighborsClassifier\n",
    "from sklearn.tree import DecisionTreeClassifier\n",
    "from sklearn.naive_bayes import GaussianNB\n",
    "from sklearn.svm import SVC\n",
    "import lightgbm as lgb\n",
    "from xgboost import XGBClassifier\n",
    "from matplotlib import pyplot as plt\n",
    "from imblearn.over_sampling import SMOTE\n",
    "from collections import Counter\n",
    "import warnings\n",
    "import joblib\n",
    "warnings.filterwarnings(\"ignore\")"
   ]
  },
  {
   "cell_type": "code",
   "execution_count": 2,
   "metadata": {},
   "outputs": [],
   "source": [
    "# Preprocessing (Done in Data Exploration)\n",
    "df=pd.read_csv('df_com_6500.csv',low_memory=False)\n",
    "df['death'].fillna(0, inplace=True) # Replacing NaN values in death with 0 (its better than dropping the value to mark them as false negative)\n",
    "df['IFNA21'].fillna((df['IFNA21'].mean()), inplace=True) # Replacing NaN values in IFNA21, ANKRD7, UGT2B17 columns with their own means\n",
    "df['ANKRD7'].fillna((df['ANKRD7'].mean()), inplace=True)\n",
    "df['UGT2B17'].fillna((df['UGT2B17'].mean()), inplace=True)"
   ]
  },
  {
   "cell_type": "markdown",
   "metadata": {},
   "source": [
    "#### Extraction"
   ]
  },
  {
   "cell_type": "code",
   "execution_count": 3,
   "metadata": {},
   "outputs": [],
   "source": [
    "X = df.drop([\"death\",\"aging\",\"sex\"], axis=1) \n",
    "y = df.death"
   ]
  },
  {
   "cell_type": "code",
   "execution_count": 4,
   "metadata": {},
   "outputs": [
    {
     "data": {
      "text/plain": [
       "death\n",
       "0.0    948\n",
       "1.0    349\n",
       "Name: count, dtype: int64"
      ]
     },
     "execution_count": 4,
     "metadata": {},
     "output_type": "execute_result"
    }
   ],
   "source": [
    "df['death'].value_counts()"
   ]
  },
  {
   "cell_type": "code",
   "execution_count": 4,
   "metadata": {},
   "outputs": [],
   "source": [
    "target_count = max(y.value_counts())\n",
    "smote = SMOTE(sampling_strategy={0: target_count, 1: target_count}, random_state=42)\n",
    "X_resampled_smote, y_resampled_smote = smote.fit_resample(X, y)"
   ]
  },
  {
   "cell_type": "code",
   "execution_count": 5,
   "metadata": {},
   "outputs": [
    {
     "name": "stdout",
     "output_type": "stream",
     "text": [
      "Original dataset shape: Counter({0.0: 948, 1.0: 349})\n",
      "SMOTE resampled dataset shape: Counter({0.0: 948, 1.0: 948})\n"
     ]
    }
   ],
   "source": [
    "print(\"Original dataset shape:\", Counter(y))\n",
    "print(\"SMOTE resampled dataset shape:\", Counter(y_resampled_smote))\n",
    "X,y= X_resampled_smote, y_resampled_smote\n"
   ]
  },
  {
   "cell_type": "code",
   "execution_count": 7,
   "metadata": {},
   "outputs": [
    {
     "data": {
      "text/plain": [
       "(1896, 6594)"
      ]
     },
     "execution_count": 7,
     "metadata": {},
     "output_type": "execute_result"
    }
   ],
   "source": [
    "X.shape"
   ]
  },
  {
   "cell_type": "code",
   "execution_count": 6,
   "metadata": {},
   "outputs": [],
   "source": [
    "X_train, X_test, y_train, y_test = train_test_split(X, y, test_size=0.2, shuffle=True, random_state=42, stratify=y)"
   ]
  },
  {
   "cell_type": "code",
   "execution_count": 7,
   "metadata": {},
   "outputs": [],
   "source": [
    "result=pd.DataFrame(columns=[\"Model\",\"Accuracy\", \"Balanced Accuracy\",\"F1\",\"Recall\",\"Precision\",\"ROC-AUC\",\"Confusion Matrix\"])\n",
    "\n",
    "def metrics(model,name):\n",
    "    y_pred = model.predict(X_test)\n",
    "    accuracy = accuracy_score(y_test, y_pred)\n",
    "    balanced_accuracy = balanced_accuracy_score(y_test, y_pred)\n",
    "    f1 = f1_score(y_test, y_pred)\n",
    "    recall = recall_score(y_test, y_pred)\n",
    "    precision = precision_score(y_test, y_pred)\n",
    "    matrix= confusion_matrix(y_test, y_pred)\n",
    "    if hasattr(model, 'predict_proba'):\n",
    "        y_probs = model.predict_proba(X_test)[:, 1]\n",
    "    else:\n",
    "        if hasattr(model, 'decision_function'):\n",
    "            decision_scores = model.decision_function(X_test)\n",
    "            y_probs = (decision_scores - decision_scores.min()) / (decision_scores.max() - decision_scores.min())\n",
    "        else:\n",
    "            raise AttributeError(f\"{name} does not have predict_proba or decision_function\")\n",
    "    roc_auc = roc_auc_score(y_test, y_probs)\n",
    "    \n",
    "    cmd = ConfusionMatrixDisplay(matrix, display_labels=['survive', \"death\"]) \n",
    "    cmd.plot(cmap='Wistia'); \n",
    "    result.loc[len(result)] = [name, accuracy, balanced_accuracy, f1, recall, precision,roc_auc, matrix.tolist()] \n",
    "    return result\n"
   ]
  },
  {
   "cell_type": "markdown",
   "metadata": {},
   "source": [
    "#### Logistic Regression"
   ]
  },
  {
   "cell_type": "markdown",
   "metadata": {},
   "source": [
    "##### Grid Searching"
   ]
  },
  {
   "cell_type": "code",
   "execution_count": 8,
   "metadata": {},
   "outputs": [],
   "source": [
    "grid = [\n",
    "    {'solver': ['newton-cg', 'lbfgs'], 'penalty': ['l2'], 'C': np.logspace(-1, 2, 3)},\n",
    "    {'solver': ['liblinear'], 'penalty': ['l1', 'l2'], 'C': np.logspace(-1, 2, 3)},\n",
    "    {'solver': ['saga'], 'penalty': ['l1', 'l2'], 'C': np.logspace(-1, 2, 3), 'l1_ratio': [0.5, 1.0]}\n",
    "]\n",
    "\n",
    "cv = StratifiedKFold(n_splits=5)\n",
    "gridsearch=GridSearchCV(estimator=LogisticRegression(max_iter=10000), param_grid=grid, cv=cv, scoring = \"f1\")\n",
    "gridsearch.fit(X,y)\n",
    "params = gridsearch.best_params_"
   ]
  },
  {
   "cell_type": "markdown",
   "metadata": {},
   "source": [
    "##### Model Training"
   ]
  },
  {
   "cell_type": "code",
   "execution_count": 8,
   "metadata": {},
   "outputs": [
    {
     "data": {
      "text/html": [
       "<div>\n",
       "<style scoped>\n",
       "    .dataframe tbody tr th:only-of-type {\n",
       "        vertical-align: middle;\n",
       "    }\n",
       "\n",
       "    .dataframe tbody tr th {\n",
       "        vertical-align: top;\n",
       "    }\n",
       "\n",
       "    .dataframe thead th {\n",
       "        text-align: right;\n",
       "    }\n",
       "</style>\n",
       "<table border=\"1\" class=\"dataframe\">\n",
       "  <thead>\n",
       "    <tr style=\"text-align: right;\">\n",
       "      <th></th>\n",
       "      <th>Model</th>\n",
       "      <th>Accuracy</th>\n",
       "      <th>Balanced Accuracy</th>\n",
       "      <th>F1</th>\n",
       "      <th>Recall</th>\n",
       "      <th>Precision</th>\n",
       "      <th>ROC-AUC</th>\n",
       "      <th>Confusion Matrix</th>\n",
       "    </tr>\n",
       "  </thead>\n",
       "  <tbody>\n",
       "    <tr>\n",
       "      <th>0</th>\n",
       "      <td>LR</td>\n",
       "      <td>0.839474</td>\n",
       "      <td>0.839474</td>\n",
       "      <td>0.848635</td>\n",
       "      <td>0.9</td>\n",
       "      <td>0.802817</td>\n",
       "      <td>0.904155</td>\n",
       "      <td>[[148, 42], [19, 171]]</td>\n",
       "    </tr>\n",
       "  </tbody>\n",
       "</table>\n",
       "</div>"
      ],
      "text/plain": [
       "  Model  Accuracy  Balanced Accuracy        F1  Recall  Precision   ROC-AUC  \\\n",
       "0    LR  0.839474           0.839474  0.848635     0.9   0.802817  0.904155   \n",
       "\n",
       "         Confusion Matrix  \n",
       "0  [[148, 42], [19, 171]]  "
      ]
     },
     "execution_count": 8,
     "metadata": {},
     "output_type": "execute_result"
    },
    {
     "data": {
      "image/png": "[encoded data removed]",
      "text/plain": [
       "<Figure size 640x480 with 2 Axes>"
      ]
     },
     "metadata": {},
     "output_type": "display_data"
    }
   ],
   "source": [
    "params= {'C': 0.1, 'penalty': 'l1', 'solver': 'liblinear'}\n",
    "logreg = LogisticRegression(**params)\n",
    "logreg.fit(X_train, y_train)\n",
    "metrics(logreg,'LR')"
   ]
  },
  {
   "cell_type": "markdown",
   "metadata": {},
   "source": [
    "####    Random Forest\n"
   ]
  },
  {
   "cell_type": "markdown",
   "metadata": {},
   "source": [
    "##### Grid Searching"
   ]
  },
  {
   "cell_type": "code",
   "execution_count": 15,
   "metadata": {},
   "outputs": [],
   "source": [
    "grid = {\n",
    "    'bootstrap': [True],\n",
    "    'max_depth': [ 90, 100,110,120,130,140],\n",
    "    'max_features': [5,6,7,8],\n",
    "    'min_samples_leaf': [2, 3],\n",
    "    'min_samples_split': [10,12,14],\n",
    "    'n_estimators': [30,40,50, 60, 70,]\n",
    "}\n",
    "cv = StratifiedKFold(n_splits=5)\n",
    "gridsearch=GridSearchCV(estimator=RandomForestClassifier(), param_grid=grid, cv=cv, scoring = \"f1\",n_jobs = -1)\n",
    "gridsearch.fit(X,y)\n",
    "params = gridsearch.best_params_"
   ]
  },
  {
   "cell_type": "markdown",
   "metadata": {},
   "source": [
    "##### Model Training"
   ]
  },
  {
   "cell_type": "code",
   "execution_count": 9,
   "metadata": {},
   "outputs": [
    {
     "data": {
      "text/html": [
       "<div>\n",
       "<style scoped>\n",
       "    .dataframe tbody tr th:only-of-type {\n",
       "        vertical-align: middle;\n",
       "    }\n",
       "\n",
       "    .dataframe tbody tr th {\n",
       "        vertical-align: top;\n",
       "    }\n",
       "\n",
       "    .dataframe thead th {\n",
       "        text-align: right;\n",
       "    }\n",
       "</style>\n",
       "<table border=\"1\" class=\"dataframe\">\n",
       "  <thead>\n",
       "    <tr style=\"text-align: right;\">\n",
       "      <th></th>\n",
       "      <th>Model</th>\n",
       "      <th>Accuracy</th>\n",
       "      <th>Balanced Accuracy</th>\n",
       "      <th>F1</th>\n",
       "      <th>Recall</th>\n",
       "      <th>Precision</th>\n",
       "      <th>ROC-AUC</th>\n",
       "      <th>Confusion Matrix</th>\n",
       "    </tr>\n",
       "  </thead>\n",
       "  <tbody>\n",
       "    <tr>\n",
       "      <th>0</th>\n",
       "      <td>LR</td>\n",
       "      <td>0.839474</td>\n",
       "      <td>0.839474</td>\n",
       "      <td>0.848635</td>\n",
       "      <td>0.900000</td>\n",
       "      <td>0.802817</td>\n",
       "      <td>0.904155</td>\n",
       "      <td>[[148, 42], [19, 171]]</td>\n",
       "    </tr>\n",
       "    <tr>\n",
       "      <th>1</th>\n",
       "      <td>RF</td>\n",
       "      <td>0.868421</td>\n",
       "      <td>0.868421</td>\n",
       "      <td>0.868421</td>\n",
       "      <td>0.868421</td>\n",
       "      <td>0.868421</td>\n",
       "      <td>0.924515</td>\n",
       "      <td>[[165, 25], [25, 165]]</td>\n",
       "    </tr>\n",
       "  </tbody>\n",
       "</table>\n",
       "</div>"
      ],
      "text/plain": [
       "  Model  Accuracy  Balanced Accuracy        F1    Recall  Precision   ROC-AUC  \\\n",
       "0    LR  0.839474           0.839474  0.848635  0.900000   0.802817  0.904155   \n",
       "1    RF  0.868421           0.868421  0.868421  0.868421   0.868421  0.924515   \n",
       "\n",
       "         Confusion Matrix  \n",
       "0  [[148, 42], [19, 171]]  \n",
       "1  [[165, 25], [25, 165]]  "
      ]
     },
     "execution_count": 9,
     "metadata": {},
     "output_type": "execute_result"
    },
    {
     "data": {
      "image/png": "[encoded data removed]",
      "text/plain": [
       "<Figure size 640x480 with 2 Axes>"
      ]
     },
     "metadata": {},
     "output_type": "display_data"
    }
   ],
   "source": [
    "# print(params)\n",
    "params= {'bootstrap': True, 'max_depth': 130, 'max_features': 8, 'min_samples_leaf': 2, 'min_samples_split': 10, 'n_estimators': 40}\n",
    "RF = RandomForestClassifier(**params)\n",
    "RF.fit(X_train, y_train)\n",
    "metrics(RF,'RF')"
   ]
  },
  {
   "cell_type": "markdown",
   "metadata": {},
   "source": [
    "#### Bagging"
   ]
  },
  {
   "cell_type": "markdown",
   "metadata": {},
   "source": [
    "##### Grid Search"
   ]
  },
  {
   "cell_type": "code",
   "execution_count": null,
   "metadata": {},
   "outputs": [],
   "source": [
    "# pip install scikit-learn==1.2.2"
   ]
  },
  {
   "cell_type": "code",
   "execution_count": 17,
   "metadata": {},
   "outputs": [],
   "source": [
    "grid={'n_estimators': [10, 100,1000]}\n",
    "cv = StratifiedKFold(n_splits=5)\n",
    "bg=BaggingClassifier(estimator=DecisionTreeClassifier())\n",
    "grid_search = GridSearchCV(estimator=bg, param_grid=grid, n_jobs=-1, cv=cv, scoring='accuracy')\n",
    "grid_search.fit(X, y)\n",
    "params = grid_search.best_params_"
   ]
  },
  {
   "cell_type": "markdown",
   "metadata": {},
   "source": [
    "##### Model Training "
   ]
  },
  {
   "cell_type": "code",
   "execution_count": 10,
   "metadata": {},
   "outputs": [
    {
     "data": {
      "text/html": [
       "<div>\n",
       "<style scoped>\n",
       "    .dataframe tbody tr th:only-of-type {\n",
       "        vertical-align: middle;\n",
       "    }\n",
       "\n",
       "    .dataframe tbody tr th {\n",
       "        vertical-align: top;\n",
       "    }\n",
       "\n",
       "    .dataframe thead th {\n",
       "        text-align: right;\n",
       "    }\n",
       "</style>\n",
       "<table border=\"1\" class=\"dataframe\">\n",
       "  <thead>\n",
       "    <tr style=\"text-align: right;\">\n",
       "      <th></th>\n",
       "      <th>Model</th>\n",
       "      <th>Accuracy</th>\n",
       "      <th>Balanced Accuracy</th>\n",
       "      <th>F1</th>\n",
       "      <th>Recall</th>\n",
       "      <th>Precision</th>\n",
       "      <th>ROC-AUC</th>\n",
       "      <th>Confusion Matrix</th>\n",
       "    </tr>\n",
       "  </thead>\n",
       "  <tbody>\n",
       "    <tr>\n",
       "      <th>0</th>\n",
       "      <td>LR</td>\n",
       "      <td>0.839474</td>\n",
       "      <td>0.839474</td>\n",
       "      <td>0.848635</td>\n",
       "      <td>0.900000</td>\n",
       "      <td>0.802817</td>\n",
       "      <td>0.904155</td>\n",
       "      <td>[[148, 42], [19, 171]]</td>\n",
       "    </tr>\n",
       "    <tr>\n",
       "      <th>1</th>\n",
       "      <td>RF</td>\n",
       "      <td>0.868421</td>\n",
       "      <td>0.868421</td>\n",
       "      <td>0.868421</td>\n",
       "      <td>0.868421</td>\n",
       "      <td>0.868421</td>\n",
       "      <td>0.924515</td>\n",
       "      <td>[[165, 25], [25, 165]]</td>\n",
       "    </tr>\n",
       "    <tr>\n",
       "      <th>2</th>\n",
       "      <td>Bagging</td>\n",
       "      <td>0.842105</td>\n",
       "      <td>0.842105</td>\n",
       "      <td>0.848485</td>\n",
       "      <td>0.884211</td>\n",
       "      <td>0.815534</td>\n",
       "      <td>0.928781</td>\n",
       "      <td>[[152, 38], [22, 168]]</td>\n",
       "    </tr>\n",
       "  </tbody>\n",
       "</table>\n",
       "</div>"
      ],
      "text/plain": [
       "     Model  Accuracy  Balanced Accuracy        F1    Recall  Precision  \\\n",
       "0       LR  0.839474           0.839474  0.848635  0.900000   0.802817   \n",
       "1       RF  0.868421           0.868421  0.868421  0.868421   0.868421   \n",
       "2  Bagging  0.842105           0.842105  0.848485  0.884211   0.815534   \n",
       "\n",
       "    ROC-AUC        Confusion Matrix  \n",
       "0  0.904155  [[148, 42], [19, 171]]  \n",
       "1  0.924515  [[165, 25], [25, 165]]  \n",
       "2  0.928781  [[152, 38], [22, 168]]  "
      ]
     },
     "execution_count": 10,
     "metadata": {},
     "output_type": "execute_result"
    },
    {
     "data": {
      "image/png": "[encoded data removed]",
      "text/plain": [
       "<Figure size 640x480 with 2 Axes>"
      ]
     },
     "metadata": {},
     "output_type": "display_data"
    }
   ],
   "source": [
    "# print(params)\n",
    "params={'n_estimators': 10}\n",
    "bagging = BaggingClassifier(estimator=DecisionTreeClassifier(),**params)\n",
    "bagging.fit(X_train, y_train)\n",
    "metrics(bagging,'Bagging')"
   ]
  },
  {
   "cell_type": "markdown",
   "metadata": {},
   "source": [
    "#### XGB"
   ]
  },
  {
   "cell_type": "markdown",
   "metadata": {},
   "source": [
    "##### Grid Searching"
   ]
  },
  {
   "cell_type": "code",
   "execution_count": 19,
   "metadata": {},
   "outputs": [
    {
     "name": "stdout",
     "output_type": "stream",
     "text": [
      "Fitting 5 folds for each of 18 candidates, totalling 90 fits\n"
     ]
    }
   ],
   "source": [
    "estimator = XGBClassifier(\n",
    "    objective= 'binary:logistic',\n",
    "    nthread=4,\n",
    "    seed=42\n",
    ")\n",
    "grid = {\n",
    "    'max_depth': range (4, 7, 1),\n",
    "    'n_estimators': range(160, 220, 20),\n",
    "    'learning_rate': [0.1, 0.01]\n",
    "}\n",
    "gridsearch = GridSearchCV(estimator=estimator, param_grid=grid,scoring = 'f1', n_jobs = 8,  cv=5, verbose=True)\n",
    "gridsearch.fit(X,y)\n",
    "params = gridsearch.best_params_"
   ]
  },
  {
   "cell_type": "markdown",
   "metadata": {},
   "source": [
    "##### Model Training"
   ]
  },
  {
   "cell_type": "code",
   "execution_count": 11,
   "metadata": {},
   "outputs": [
    {
     "data": {
      "text/html": [
       "<div>\n",
       "<style scoped>\n",
       "    .dataframe tbody tr th:only-of-type {\n",
       "        vertical-align: middle;\n",
       "    }\n",
       "\n",
       "    .dataframe tbody tr th {\n",
       "        vertical-align: top;\n",
       "    }\n",
       "\n",
       "    .dataframe thead th {\n",
       "        text-align: right;\n",
       "    }\n",
       "</style>\n",
       "<table border=\"1\" class=\"dataframe\">\n",
       "  <thead>\n",
       "    <tr style=\"text-align: right;\">\n",
       "      <th></th>\n",
       "      <th>Model</th>\n",
       "      <th>Accuracy</th>\n",
       "      <th>Balanced Accuracy</th>\n",
       "      <th>F1</th>\n",
       "      <th>Recall</th>\n",
       "      <th>Precision</th>\n",
       "      <th>ROC-AUC</th>\n",
       "      <th>Confusion Matrix</th>\n",
       "    </tr>\n",
       "  </thead>\n",
       "  <tbody>\n",
       "    <tr>\n",
       "      <th>0</th>\n",
       "      <td>LR</td>\n",
       "      <td>0.839474</td>\n",
       "      <td>0.839474</td>\n",
       "      <td>0.848635</td>\n",
       "      <td>0.900000</td>\n",
       "      <td>0.802817</td>\n",
       "      <td>0.904155</td>\n",
       "      <td>[[148, 42], [19, 171]]</td>\n",
       "    </tr>\n",
       "    <tr>\n",
       "      <th>1</th>\n",
       "      <td>RF</td>\n",
       "      <td>0.868421</td>\n",
       "      <td>0.868421</td>\n",
       "      <td>0.868421</td>\n",
       "      <td>0.868421</td>\n",
       "      <td>0.868421</td>\n",
       "      <td>0.924515</td>\n",
       "      <td>[[165, 25], [25, 165]]</td>\n",
       "    </tr>\n",
       "    <tr>\n",
       "      <th>2</th>\n",
       "      <td>Bagging</td>\n",
       "      <td>0.842105</td>\n",
       "      <td>0.842105</td>\n",
       "      <td>0.848485</td>\n",
       "      <td>0.884211</td>\n",
       "      <td>0.815534</td>\n",
       "      <td>0.928781</td>\n",
       "      <td>[[152, 38], [22, 168]]</td>\n",
       "    </tr>\n",
       "    <tr>\n",
       "      <th>3</th>\n",
       "      <td>XGB</td>\n",
       "      <td>0.894737</td>\n",
       "      <td>0.894737</td>\n",
       "      <td>0.897959</td>\n",
       "      <td>0.926316</td>\n",
       "      <td>0.871287</td>\n",
       "      <td>0.959003</td>\n",
       "      <td>[[164, 26], [14, 176]]</td>\n",
       "    </tr>\n",
       "  </tbody>\n",
       "</table>\n",
       "</div>"
      ],
      "text/plain": [
       "     Model  Accuracy  Balanced Accuracy        F1    Recall  Precision  \\\n",
       "0       LR  0.839474           0.839474  0.848635  0.900000   0.802817   \n",
       "1       RF  0.868421           0.868421  0.868421  0.868421   0.868421   \n",
       "2  Bagging  0.842105           0.842105  0.848485  0.884211   0.815534   \n",
       "3      XGB  0.894737           0.894737  0.897959  0.926316   0.871287   \n",
       "\n",
       "    ROC-AUC        Confusion Matrix  \n",
       "0  0.904155  [[148, 42], [19, 171]]  \n",
       "1  0.924515  [[165, 25], [25, 165]]  \n",
       "2  0.928781  [[152, 38], [22, 168]]  \n",
       "3  0.959003  [[164, 26], [14, 176]]  "
      ]
     },
     "execution_count": 11,
     "metadata": {},
     "output_type": "execute_result"
    },
    {
     "data": {
      "image/png": "[encoded data removed]",
      "text/plain": [
       "<Figure size 640x480 with 2 Axes>"
      ]
     },
     "metadata": {},
     "output_type": "display_data"
    }
   ],
   "source": [
    "# print(params)\n",
    "params={'learning_rate': 0.1, 'max_depth': 5, 'n_estimators': 180}\n",
    "XGB = XGBClassifier(**params)\n",
    "XGB.fit(X_train, y_train)\n",
    "metrics(XGB,'XGB')"
   ]
  },
  {
   "cell_type": "markdown",
   "metadata": {},
   "source": [
    "#### LightGBM"
   ]
  },
  {
   "cell_type": "markdown",
   "metadata": {},
   "source": [
    "##### Grid Searching"
   ]
  },
  {
   "cell_type": "code",
   "execution_count": 21,
   "metadata": {},
   "outputs": [
    {
     "name": "stdout",
     "output_type": "stream",
     "text": [
      "[LightGBM] [Info] Number of positive: 948, number of negative: 948\n",
      "[LightGBM] [Info] Total Bins 1681469\n",
      "[LightGBM] [Info] Number of data points in the train set: 1896, number of used features: 6594\n",
      "[LightGBM] [Info] [binary:BoostFromScore]: pavg=0.500000 -> initscore=0.000000\n",
      "[LightGBM] [Warning] No further splits with positive gain, best gain: -inf\n",
      "[LightGBM] [Warning] No further splits with positive gain, best gain: -inf\n",
      "[LightGBM] [Warning] No further splits with positive gain, best gain: -inf\n",
      "[LightGBM] [Warning] No further splits with positive gain, best gain: -inf\n",
      "[LightGBM] [Warning] No further splits with positive gain, best gain: -inf\n",
      "[LightGBM] [Warning] No further splits with positive gain, best gain: -inf\n",
      "[LightGBM] [Warning] No further splits with positive gain, best gain: -inf\n",
      "[LightGBM] [Warning] No further splits with positive gain, best gain: -inf\n",
      "[LightGBM] [Warning] No further splits with positive gain, best gain: -inf\n",
      "[LightGBM] [Warning] No further splits with positive gain, best gain: -inf\n",
      "[LightGBM] [Warning] No further splits with positive gain, best gain: -inf\n",
      "[LightGBM] [Warning] No further splits with positive gain, best gain: -inf\n",
      "[LightGBM] [Warning] No further splits with positive gain, best gain: -inf\n",
      "[LightGBM] [Warning] No further splits with positive gain, best gain: -inf\n",
      "[LightGBM] [Warning] No further splits with positive gain, best gain: -inf\n",
      "[LightGBM] [Warning] No further splits with positive gain, best gain: -inf\n",
      "[LightGBM] [Warning] No further splits with positive gain, best gain: -inf\n",
      "[LightGBM] [Warning] No further splits with positive gain, best gain: -inf\n",
      "[LightGBM] [Warning] No further splits with positive gain, best gain: -inf\n",
      "[LightGBM] [Warning] No further splits with positive gain, best gain: -inf\n",
      "[LightGBM] [Warning] No further splits with positive gain, best gain: -inf\n"
     ]
    }
   ],
   "source": [
    "grid = {\n",
    "    'n_estimators': [80,90,100],           \n",
    "    'learning_rate': [0.2,0.3,0.4],        \n",
    "    'max_depth': [4, 5],                       \n",
    "    'num_leaves': [10,12],\n",
    "    'subsample': [0.2],            \n",
    "    'colsample_bytree': [0.9,1.0,1.1]\n",
    "}\n",
    "lgb_classifier = lgb.LGBMClassifier(force_col_wise=True)\n",
    "gridsearch = GridSearchCV(estimator=lgb_classifier, param_grid=grid, cv=5, scoring='accuracy', n_jobs=8)\n",
    "gridsearch.fit(X,y)\n",
    "params = gridsearch.best_params_"
   ]
  },
  {
   "cell_type": "markdown",
   "metadata": {},
   "source": [
    "##### Model Training"
   ]
  },
  {
   "cell_type": "code",
   "execution_count": 12,
   "metadata": {},
   "outputs": [
    {
     "data": {
      "text/html": [
       "<div>\n",
       "<style scoped>\n",
       "    .dataframe tbody tr th:only-of-type {\n",
       "        vertical-align: middle;\n",
       "    }\n",
       "\n",
       "    .dataframe tbody tr th {\n",
       "        vertical-align: top;\n",
       "    }\n",
       "\n",
       "    .dataframe thead th {\n",
       "        text-align: right;\n",
       "    }\n",
       "</style>\n",
       "<table border=\"1\" class=\"dataframe\">\n",
       "  <thead>\n",
       "    <tr style=\"text-align: right;\">\n",
       "      <th></th>\n",
       "      <th>Model</th>\n",
       "      <th>Accuracy</th>\n",
       "      <th>Balanced Accuracy</th>\n",
       "      <th>F1</th>\n",
       "      <th>Recall</th>\n",
       "      <th>Precision</th>\n",
       "      <th>ROC-AUC</th>\n",
       "      <th>Confusion Matrix</th>\n",
       "    </tr>\n",
       "  </thead>\n",
       "  <tbody>\n",
       "    <tr>\n",
       "      <th>0</th>\n",
       "      <td>LR</td>\n",
       "      <td>0.839474</td>\n",
       "      <td>0.839474</td>\n",
       "      <td>0.848635</td>\n",
       "      <td>0.900000</td>\n",
       "      <td>0.802817</td>\n",
       "      <td>0.904155</td>\n",
       "      <td>[[148, 42], [19, 171]]</td>\n",
       "    </tr>\n",
       "    <tr>\n",
       "      <th>1</th>\n",
       "      <td>RF</td>\n",
       "      <td>0.868421</td>\n",
       "      <td>0.868421</td>\n",
       "      <td>0.868421</td>\n",
       "      <td>0.868421</td>\n",
       "      <td>0.868421</td>\n",
       "      <td>0.924515</td>\n",
       "      <td>[[165, 25], [25, 165]]</td>\n",
       "    </tr>\n",
       "    <tr>\n",
       "      <th>2</th>\n",
       "      <td>Bagging</td>\n",
       "      <td>0.842105</td>\n",
       "      <td>0.842105</td>\n",
       "      <td>0.848485</td>\n",
       "      <td>0.884211</td>\n",
       "      <td>0.815534</td>\n",
       "      <td>0.928781</td>\n",
       "      <td>[[152, 38], [22, 168]]</td>\n",
       "    </tr>\n",
       "    <tr>\n",
       "      <th>3</th>\n",
       "      <td>XGB</td>\n",
       "      <td>0.894737</td>\n",
       "      <td>0.894737</td>\n",
       "      <td>0.897959</td>\n",
       "      <td>0.926316</td>\n",
       "      <td>0.871287</td>\n",
       "      <td>0.959003</td>\n",
       "      <td>[[164, 26], [14, 176]]</td>\n",
       "    </tr>\n",
       "    <tr>\n",
       "      <th>4</th>\n",
       "      <td>LGB</td>\n",
       "      <td>0.831579</td>\n",
       "      <td>0.831579</td>\n",
       "      <td>0.837563</td>\n",
       "      <td>0.868421</td>\n",
       "      <td>0.808824</td>\n",
       "      <td>0.898892</td>\n",
       "      <td>[[151, 39], [25, 165]]</td>\n",
       "    </tr>\n",
       "  </tbody>\n",
       "</table>\n",
       "</div>"
      ],
      "text/plain": [
       "     Model  Accuracy  Balanced Accuracy        F1    Recall  Precision  \\\n",
       "0       LR  0.839474           0.839474  0.848635  0.900000   0.802817   \n",
       "1       RF  0.868421           0.868421  0.868421  0.868421   0.868421   \n",
       "2  Bagging  0.842105           0.842105  0.848485  0.884211   0.815534   \n",
       "3      XGB  0.894737           0.894737  0.897959  0.926316   0.871287   \n",
       "4      LGB  0.831579           0.831579  0.837563  0.868421   0.808824   \n",
       "\n",
       "    ROC-AUC        Confusion Matrix  \n",
       "0  0.904155  [[148, 42], [19, 171]]  \n",
       "1  0.924515  [[165, 25], [25, 165]]  \n",
       "2  0.928781  [[152, 38], [22, 168]]  \n",
       "3  0.959003  [[164, 26], [14, 176]]  \n",
       "4  0.898892  [[151, 39], [25, 165]]  "
      ]
     },
     "execution_count": 12,
     "metadata": {},
     "output_type": "execute_result"
    },
    {
     "data": {
      "image/png": "[encoded data removed]",
      "text/plain": [
       "<Figure size 640x480 with 2 Axes>"
      ]
     },
     "metadata": {},
     "output_type": "display_data"
    }
   ],
   "source": [
    "# print(params)\n",
    "params={'colsample_bytree': 0.9, 'learning_rate': 0.4, 'max_depth': 4, 'n_estimators': 80, 'num_leaves': 10, 'subsample': 0.2}\n",
    "\n",
    "lgb_classifier = XGBClassifier(**params)\n",
    "lgb_classifier.fit(X_train, y_train)\n",
    "metrics(lgb_classifier,'LGB')"
   ]
  },
  {
   "cell_type": "markdown",
   "metadata": {},
   "source": [
    "#### KNN"
   ]
  },
  {
   "cell_type": "markdown",
   "metadata": {},
   "source": [
    "##### Grid Search"
   ]
  },
  {
   "cell_type": "code",
   "execution_count": 25,
   "metadata": {},
   "outputs": [],
   "source": [
    "\n",
    "grid = {\n",
    "    'n_neighbors' : range(2, 21, 2),\n",
    "    'weights': ['uniform', 'distance'],\n",
    "    'metric' : ['euclidean', 'manhattan', 'minkowski']\n",
    "    }\n",
    "gridsearch = GridSearchCV(estimator=KNeighborsClassifier(), param_grid=grid, cv=StratifiedKFold(n_splits=5), scoring='accuracy', n_jobs=-1)\n",
    "gridsearch.fit(X,y)\n",
    "params = gridsearch.best_params_"
   ]
  },
  {
   "cell_type": "markdown",
   "metadata": {},
   "source": [
    "##### Model Training"
   ]
  },
  {
   "cell_type": "code",
   "execution_count": 13,
   "metadata": {},
   "outputs": [
    {
     "data": {
      "text/html": [
       "<div>\n",
       "<style scoped>\n",
       "    .dataframe tbody tr th:only-of-type {\n",
       "        vertical-align: middle;\n",
       "    }\n",
       "\n",
       "    .dataframe tbody tr th {\n",
       "        vertical-align: top;\n",
       "    }\n",
       "\n",
       "    .dataframe thead th {\n",
       "        text-align: right;\n",
       "    }\n",
       "</style>\n",
       "<table border=\"1\" class=\"dataframe\">\n",
       "  <thead>\n",
       "    <tr style=\"text-align: right;\">\n",
       "      <th></th>\n",
       "      <th>Model</th>\n",
       "      <th>Accuracy</th>\n",
       "      <th>Balanced Accuracy</th>\n",
       "      <th>F1</th>\n",
       "      <th>Recall</th>\n",
       "      <th>Precision</th>\n",
       "      <th>ROC-AUC</th>\n",
       "      <th>Confusion Matrix</th>\n",
       "    </tr>\n",
       "  </thead>\n",
       "  <tbody>\n",
       "    <tr>\n",
       "      <th>0</th>\n",
       "      <td>LR</td>\n",
       "      <td>0.839474</td>\n",
       "      <td>0.839474</td>\n",
       "      <td>0.848635</td>\n",
       "      <td>0.900000</td>\n",
       "      <td>0.802817</td>\n",
       "      <td>0.904155</td>\n",
       "      <td>[[148, 42], [19, 171]]</td>\n",
       "    </tr>\n",
       "    <tr>\n",
       "      <th>1</th>\n",
       "      <td>RF</td>\n",
       "      <td>0.868421</td>\n",
       "      <td>0.868421</td>\n",
       "      <td>0.868421</td>\n",
       "      <td>0.868421</td>\n",
       "      <td>0.868421</td>\n",
       "      <td>0.924515</td>\n",
       "      <td>[[165, 25], [25, 165]]</td>\n",
       "    </tr>\n",
       "    <tr>\n",
       "      <th>2</th>\n",
       "      <td>Bagging</td>\n",
       "      <td>0.842105</td>\n",
       "      <td>0.842105</td>\n",
       "      <td>0.848485</td>\n",
       "      <td>0.884211</td>\n",
       "      <td>0.815534</td>\n",
       "      <td>0.928781</td>\n",
       "      <td>[[152, 38], [22, 168]]</td>\n",
       "    </tr>\n",
       "    <tr>\n",
       "      <th>3</th>\n",
       "      <td>XGB</td>\n",
       "      <td>0.894737</td>\n",
       "      <td>0.894737</td>\n",
       "      <td>0.897959</td>\n",
       "      <td>0.926316</td>\n",
       "      <td>0.871287</td>\n",
       "      <td>0.959003</td>\n",
       "      <td>[[164, 26], [14, 176]]</td>\n",
       "    </tr>\n",
       "    <tr>\n",
       "      <th>4</th>\n",
       "      <td>LGB</td>\n",
       "      <td>0.831579</td>\n",
       "      <td>0.831579</td>\n",
       "      <td>0.837563</td>\n",
       "      <td>0.868421</td>\n",
       "      <td>0.808824</td>\n",
       "      <td>0.898892</td>\n",
       "      <td>[[151, 39], [25, 165]]</td>\n",
       "    </tr>\n",
       "    <tr>\n",
       "      <th>5</th>\n",
       "      <td>KNN</td>\n",
       "      <td>0.807895</td>\n",
       "      <td>0.807895</td>\n",
       "      <td>0.828235</td>\n",
       "      <td>0.926316</td>\n",
       "      <td>0.748936</td>\n",
       "      <td>0.820623</td>\n",
       "      <td>[[131, 59], [14, 176]]</td>\n",
       "    </tr>\n",
       "  </tbody>\n",
       "</table>\n",
       "</div>"
      ],
      "text/plain": [
       "     Model  Accuracy  Balanced Accuracy        F1    Recall  Precision  \\\n",
       "0       LR  0.839474           0.839474  0.848635  0.900000   0.802817   \n",
       "1       RF  0.868421           0.868421  0.868421  0.868421   0.868421   \n",
       "2  Bagging  0.842105           0.842105  0.848485  0.884211   0.815534   \n",
       "3      XGB  0.894737           0.894737  0.897959  0.926316   0.871287   \n",
       "4      LGB  0.831579           0.831579  0.837563  0.868421   0.808824   \n",
       "5      KNN  0.807895           0.807895  0.828235  0.926316   0.748936   \n",
       "\n",
       "    ROC-AUC        Confusion Matrix  \n",
       "0  0.904155  [[148, 42], [19, 171]]  \n",
       "1  0.924515  [[165, 25], [25, 165]]  \n",
       "2  0.928781  [[152, 38], [22, 168]]  \n",
       "3  0.959003  [[164, 26], [14, 176]]  \n",
       "4  0.898892  [[151, 39], [25, 165]]  \n",
       "5  0.820623  [[131, 59], [14, 176]]  "
      ]
     },
     "execution_count": 13,
     "metadata": {},
     "output_type": "execute_result"
    },
    {
     "data": {
      "image/png": "[encoded data removed]",
      "text/plain": [
       "<Figure size 640x480 with 2 Axes>"
      ]
     },
     "metadata": {},
     "output_type": "display_data"
    }
   ],
   "source": [
    "# print(params)\n",
    "params={'metric': 'manhattan', 'n_neighbors': 2, 'weights': 'uniform'}\n",
    "KNN = KNeighborsClassifier(**params)\n",
    "KNN.fit(X_train, y_train)\n",
    "metrics(KNN,'KNN')"
   ]
  },
  {
   "cell_type": "markdown",
   "metadata": {},
   "source": [
    "#### SVC"
   ]
  },
  {
   "cell_type": "markdown",
   "metadata": {},
   "source": [
    "##### Grid Search"
   ]
  },
  {
   "cell_type": "code",
   "execution_count": 27,
   "metadata": {},
   "outputs": [],
   "source": [
    "grid = {\n",
    "    'kernel': ['linear','poly', 'rbf', 'sigmoid'],\n",
    "    'C': np.logspace(-3,3,7)\n",
    "    }\n",
    "gridsearch = GridSearchCV(estimator=SVC(), param_grid=grid, cv=StratifiedKFold(n_splits=5), scoring='accuracy', n_jobs=-1)\n",
    "gridsearch.fit(X,y)\n",
    "params = gridsearch.best_params_"
   ]
  },
  {
   "cell_type": "markdown",
   "metadata": {},
   "source": [
    "##### Model Training"
   ]
  },
  {
   "cell_type": "code",
   "execution_count": 14,
   "metadata": {},
   "outputs": [
    {
     "data": {
      "text/html": [
       "<div>\n",
       "<style scoped>\n",
       "    .dataframe tbody tr th:only-of-type {\n",
       "        vertical-align: middle;\n",
       "    }\n",
       "\n",
       "    .dataframe tbody tr th {\n",
       "        vertical-align: top;\n",
       "    }\n",
       "\n",
       "    .dataframe thead th {\n",
       "        text-align: right;\n",
       "    }\n",
       "</style>\n",
       "<table border=\"1\" class=\"dataframe\">\n",
       "  <thead>\n",
       "    <tr style=\"text-align: right;\">\n",
       "      <th></th>\n",
       "      <th>Model</th>\n",
       "      <th>Accuracy</th>\n",
       "      <th>Balanced Accuracy</th>\n",
       "      <th>F1</th>\n",
       "      <th>Recall</th>\n",
       "      <th>Precision</th>\n",
       "      <th>ROC-AUC</th>\n",
       "      <th>Confusion Matrix</th>\n",
       "    </tr>\n",
       "  </thead>\n",
       "  <tbody>\n",
       "    <tr>\n",
       "      <th>0</th>\n",
       "      <td>LR</td>\n",
       "      <td>0.839474</td>\n",
       "      <td>0.839474</td>\n",
       "      <td>0.848635</td>\n",
       "      <td>0.900000</td>\n",
       "      <td>0.802817</td>\n",
       "      <td>0.904155</td>\n",
       "      <td>[[148, 42], [19, 171]]</td>\n",
       "    </tr>\n",
       "    <tr>\n",
       "      <th>1</th>\n",
       "      <td>RF</td>\n",
       "      <td>0.868421</td>\n",
       "      <td>0.868421</td>\n",
       "      <td>0.868421</td>\n",
       "      <td>0.868421</td>\n",
       "      <td>0.868421</td>\n",
       "      <td>0.924515</td>\n",
       "      <td>[[165, 25], [25, 165]]</td>\n",
       "    </tr>\n",
       "    <tr>\n",
       "      <th>2</th>\n",
       "      <td>Bagging</td>\n",
       "      <td>0.842105</td>\n",
       "      <td>0.842105</td>\n",
       "      <td>0.848485</td>\n",
       "      <td>0.884211</td>\n",
       "      <td>0.815534</td>\n",
       "      <td>0.928781</td>\n",
       "      <td>[[152, 38], [22, 168]]</td>\n",
       "    </tr>\n",
       "    <tr>\n",
       "      <th>3</th>\n",
       "      <td>XGB</td>\n",
       "      <td>0.894737</td>\n",
       "      <td>0.894737</td>\n",
       "      <td>0.897959</td>\n",
       "      <td>0.926316</td>\n",
       "      <td>0.871287</td>\n",
       "      <td>0.959003</td>\n",
       "      <td>[[164, 26], [14, 176]]</td>\n",
       "    </tr>\n",
       "    <tr>\n",
       "      <th>4</th>\n",
       "      <td>LGB</td>\n",
       "      <td>0.831579</td>\n",
       "      <td>0.831579</td>\n",
       "      <td>0.837563</td>\n",
       "      <td>0.868421</td>\n",
       "      <td>0.808824</td>\n",
       "      <td>0.898892</td>\n",
       "      <td>[[151, 39], [25, 165]]</td>\n",
       "    </tr>\n",
       "    <tr>\n",
       "      <th>5</th>\n",
       "      <td>KNN</td>\n",
       "      <td>0.807895</td>\n",
       "      <td>0.807895</td>\n",
       "      <td>0.828235</td>\n",
       "      <td>0.926316</td>\n",
       "      <td>0.748936</td>\n",
       "      <td>0.820623</td>\n",
       "      <td>[[131, 59], [14, 176]]</td>\n",
       "    </tr>\n",
       "    <tr>\n",
       "      <th>6</th>\n",
       "      <td>SVC</td>\n",
       "      <td>0.910526</td>\n",
       "      <td>0.910526</td>\n",
       "      <td>0.915423</td>\n",
       "      <td>0.968421</td>\n",
       "      <td>0.867925</td>\n",
       "      <td>0.982188</td>\n",
       "      <td>[[162, 28], [6, 184]]</td>\n",
       "    </tr>\n",
       "  </tbody>\n",
       "</table>\n",
       "</div>"
      ],
      "text/plain": [
       "     Model  Accuracy  Balanced Accuracy        F1    Recall  Precision  \\\n",
       "0       LR  0.839474           0.839474  0.848635  0.900000   0.802817   \n",
       "1       RF  0.868421           0.868421  0.868421  0.868421   0.868421   \n",
       "2  Bagging  0.842105           0.842105  0.848485  0.884211   0.815534   \n",
       "3      XGB  0.894737           0.894737  0.897959  0.926316   0.871287   \n",
       "4      LGB  0.831579           0.831579  0.837563  0.868421   0.808824   \n",
       "5      KNN  0.807895           0.807895  0.828235  0.926316   0.748936   \n",
       "6      SVC  0.910526           0.910526  0.915423  0.968421   0.867925   \n",
       "\n",
       "    ROC-AUC        Confusion Matrix  \n",
       "0  0.904155  [[148, 42], [19, 171]]  \n",
       "1  0.924515  [[165, 25], [25, 165]]  \n",
       "2  0.928781  [[152, 38], [22, 168]]  \n",
       "3  0.959003  [[164, 26], [14, 176]]  \n",
       "4  0.898892  [[151, 39], [25, 165]]  \n",
       "5  0.820623  [[131, 59], [14, 176]]  \n",
       "6  0.982188   [[162, 28], [6, 184]]  "
      ]
     },
     "execution_count": 14,
     "metadata": {},
     "output_type": "execute_result"
    },
    {
     "data": {
      "image/png": "[encoded data removed]",
      "text/plain": [
       "<Figure size 640x480 with 2 Axes>"
      ]
     },
     "metadata": {},
     "output_type": "display_data"
    }
   ],
   "source": [
    "# print(params)\n",
    "params={'C': 1000.0, 'kernel': 'rbf'}\n",
    "SVCClassifier = SVC(**params,probability=True)\n",
    "SVCClassifier.fit(X_train, y_train)\n",
    "metrics(SVCClassifier,'SVC') "
   ]
  },
  {
   "cell_type": "markdown",
   "metadata": {},
   "source": [
    "#### Gaussian NB"
   ]
  },
  {
   "cell_type": "markdown",
   "metadata": {},
   "source": [
    "##### Grid Search"
   ]
  },
  {
   "cell_type": "code",
   "execution_count": 29,
   "metadata": {},
   "outputs": [
    {
     "name": "stdout",
     "output_type": "stream",
     "text": [
      "Fitting 5 folds for each of 30 candidates, totalling 150 fits\n"
     ]
    }
   ],
   "source": [
    "grid= {'var_smoothing': np.logspace(0,-10, num=30)}\n",
    "grid_search = GridSearchCV(estimator=GaussianNB(),param_grid=grid,cv=StratifiedKFold(n_splits=5),verbose=1,scoring='accuracy') \n",
    "grid_search.fit(X, y)\n",
    "params = grid_search.best_params_"
   ]
  },
  {
   "cell_type": "markdown",
   "metadata": {},
   "source": [
    "##### Model Training"
   ]
  },
  {
   "cell_type": "code",
   "execution_count": 15,
   "metadata": {},
   "outputs": [
    {
     "data": {
      "text/html": [
       "<div>\n",
       "<style scoped>\n",
       "    .dataframe tbody tr th:only-of-type {\n",
       "        vertical-align: middle;\n",
       "    }\n",
       "\n",
       "    .dataframe tbody tr th {\n",
       "        vertical-align: top;\n",
       "    }\n",
       "\n",
       "    .dataframe thead th {\n",
       "        text-align: right;\n",
       "    }\n",
       "</style>\n",
       "<table border=\"1\" class=\"dataframe\">\n",
       "  <thead>\n",
       "    <tr style=\"text-align: right;\">\n",
       "      <th></th>\n",
       "      <th>Model</th>\n",
       "      <th>Accuracy</th>\n",
       "      <th>Balanced Accuracy</th>\n",
       "      <th>F1</th>\n",
       "      <th>Recall</th>\n",
       "      <th>Precision</th>\n",
       "      <th>ROC-AUC</th>\n",
       "      <th>Confusion Matrix</th>\n",
       "    </tr>\n",
       "  </thead>\n",
       "  <tbody>\n",
       "    <tr>\n",
       "      <th>0</th>\n",
       "      <td>LR</td>\n",
       "      <td>0.839474</td>\n",
       "      <td>0.839474</td>\n",
       "      <td>0.848635</td>\n",
       "      <td>0.900000</td>\n",
       "      <td>0.802817</td>\n",
       "      <td>0.904155</td>\n",
       "      <td>[[148, 42], [19, 171]]</td>\n",
       "    </tr>\n",
       "    <tr>\n",
       "      <th>1</th>\n",
       "      <td>RF</td>\n",
       "      <td>0.868421</td>\n",
       "      <td>0.868421</td>\n",
       "      <td>0.868421</td>\n",
       "      <td>0.868421</td>\n",
       "      <td>0.868421</td>\n",
       "      <td>0.924515</td>\n",
       "      <td>[[165, 25], [25, 165]]</td>\n",
       "    </tr>\n",
       "    <tr>\n",
       "      <th>2</th>\n",
       "      <td>Bagging</td>\n",
       "      <td>0.842105</td>\n",
       "      <td>0.842105</td>\n",
       "      <td>0.848485</td>\n",
       "      <td>0.884211</td>\n",
       "      <td>0.815534</td>\n",
       "      <td>0.928781</td>\n",
       "      <td>[[152, 38], [22, 168]]</td>\n",
       "    </tr>\n",
       "    <tr>\n",
       "      <th>3</th>\n",
       "      <td>XGB</td>\n",
       "      <td>0.894737</td>\n",
       "      <td>0.894737</td>\n",
       "      <td>0.897959</td>\n",
       "      <td>0.926316</td>\n",
       "      <td>0.871287</td>\n",
       "      <td>0.959003</td>\n",
       "      <td>[[164, 26], [14, 176]]</td>\n",
       "    </tr>\n",
       "    <tr>\n",
       "      <th>4</th>\n",
       "      <td>LGB</td>\n",
       "      <td>0.831579</td>\n",
       "      <td>0.831579</td>\n",
       "      <td>0.837563</td>\n",
       "      <td>0.868421</td>\n",
       "      <td>0.808824</td>\n",
       "      <td>0.898892</td>\n",
       "      <td>[[151, 39], [25, 165]]</td>\n",
       "    </tr>\n",
       "    <tr>\n",
       "      <th>5</th>\n",
       "      <td>KNN</td>\n",
       "      <td>0.807895</td>\n",
       "      <td>0.807895</td>\n",
       "      <td>0.828235</td>\n",
       "      <td>0.926316</td>\n",
       "      <td>0.748936</td>\n",
       "      <td>0.820623</td>\n",
       "      <td>[[131, 59], [14, 176]]</td>\n",
       "    </tr>\n",
       "    <tr>\n",
       "      <th>6</th>\n",
       "      <td>SVC</td>\n",
       "      <td>0.910526</td>\n",
       "      <td>0.910526</td>\n",
       "      <td>0.915423</td>\n",
       "      <td>0.968421</td>\n",
       "      <td>0.867925</td>\n",
       "      <td>0.982188</td>\n",
       "      <td>[[162, 28], [6, 184]]</td>\n",
       "    </tr>\n",
       "    <tr>\n",
       "      <th>7</th>\n",
       "      <td>GNB</td>\n",
       "      <td>0.584211</td>\n",
       "      <td>0.584211</td>\n",
       "      <td>0.644144</td>\n",
       "      <td>0.752632</td>\n",
       "      <td>0.562992</td>\n",
       "      <td>0.587285</td>\n",
       "      <td>[[79, 111], [47, 143]]</td>\n",
       "    </tr>\n",
       "  </tbody>\n",
       "</table>\n",
       "</div>"
      ],
      "text/plain": [
       "     Model  Accuracy  Balanced Accuracy        F1    Recall  Precision  \\\n",
       "0       LR  0.839474           0.839474  0.848635  0.900000   0.802817   \n",
       "1       RF  0.868421           0.868421  0.868421  0.868421   0.868421   \n",
       "2  Bagging  0.842105           0.842105  0.848485  0.884211   0.815534   \n",
       "3      XGB  0.894737           0.894737  0.897959  0.926316   0.871287   \n",
       "4      LGB  0.831579           0.831579  0.837563  0.868421   0.808824   \n",
       "5      KNN  0.807895           0.807895  0.828235  0.926316   0.748936   \n",
       "6      SVC  0.910526           0.910526  0.915423  0.968421   0.867925   \n",
       "7      GNB  0.584211           0.584211  0.644144  0.752632   0.562992   \n",
       "\n",
       "    ROC-AUC        Confusion Matrix  \n",
       "0  0.904155  [[148, 42], [19, 171]]  \n",
       "1  0.924515  [[165, 25], [25, 165]]  \n",
       "2  0.928781  [[152, 38], [22, 168]]  \n",
       "3  0.959003  [[164, 26], [14, 176]]  \n",
       "4  0.898892  [[151, 39], [25, 165]]  \n",
       "5  0.820623  [[131, 59], [14, 176]]  \n",
       "6  0.982188   [[162, 28], [6, 184]]  \n",
       "7  0.587285  [[79, 111], [47, 143]]  "
      ]
     },
     "execution_count": 15,
     "metadata": {},
     "output_type": "execute_result"
    },
    {
     "data": {
      "image/png": "[encoded data removed]",
      "text/plain": [
       "<Figure size 640x480 with 2 Axes>"
      ]
     },
     "metadata": {},
     "output_type": "display_data"
    }
   ],
   "source": [
    "# print(params)\n",
    "params= {'var_smoothing': 0.4520353656360243}\n",
    "GNB = GaussianNB(**params)\n",
    "GNB.fit(X_train, y_train)\n",
    "metrics(GNB,'GNB') "
   ]
  },
  {
   "cell_type": "markdown",
   "metadata": {},
   "source": [
    "#### Stacking"
   ]
  },
  {
   "cell_type": "markdown",
   "metadata": {},
   "source": [
    "##### Model Training"
   ]
  },
  {
   "cell_type": "code",
   "execution_count": 16,
   "metadata": {},
   "outputs": [
    {
     "data": {
      "text/html": [
       "<div>\n",
       "<style scoped>\n",
       "    .dataframe tbody tr th:only-of-type {\n",
       "        vertical-align: middle;\n",
       "    }\n",
       "\n",
       "    .dataframe tbody tr th {\n",
       "        vertical-align: top;\n",
       "    }\n",
       "\n",
       "    .dataframe thead th {\n",
       "        text-align: right;\n",
       "    }\n",
       "</style>\n",
       "<table border=\"1\" class=\"dataframe\">\n",
       "  <thead>\n",
       "    <tr style=\"text-align: right;\">\n",
       "      <th></th>\n",
       "      <th>Model</th>\n",
       "      <th>Accuracy</th>\n",
       "      <th>Balanced Accuracy</th>\n",
       "      <th>F1</th>\n",
       "      <th>Recall</th>\n",
       "      <th>Precision</th>\n",
       "      <th>ROC-AUC</th>\n",
       "      <th>Confusion Matrix</th>\n",
       "    </tr>\n",
       "  </thead>\n",
       "  <tbody>\n",
       "    <tr>\n",
       "      <th>0</th>\n",
       "      <td>LR</td>\n",
       "      <td>0.839474</td>\n",
       "      <td>0.839474</td>\n",
       "      <td>0.848635</td>\n",
       "      <td>0.900000</td>\n",
       "      <td>0.802817</td>\n",
       "      <td>0.904155</td>\n",
       "      <td>[[148, 42], [19, 171]]</td>\n",
       "    </tr>\n",
       "    <tr>\n",
       "      <th>1</th>\n",
       "      <td>RF</td>\n",
       "      <td>0.868421</td>\n",
       "      <td>0.868421</td>\n",
       "      <td>0.868421</td>\n",
       "      <td>0.868421</td>\n",
       "      <td>0.868421</td>\n",
       "      <td>0.924515</td>\n",
       "      <td>[[165, 25], [25, 165]]</td>\n",
       "    </tr>\n",
       "    <tr>\n",
       "      <th>2</th>\n",
       "      <td>Bagging</td>\n",
       "      <td>0.842105</td>\n",
       "      <td>0.842105</td>\n",
       "      <td>0.848485</td>\n",
       "      <td>0.884211</td>\n",
       "      <td>0.815534</td>\n",
       "      <td>0.928781</td>\n",
       "      <td>[[152, 38], [22, 168]]</td>\n",
       "    </tr>\n",
       "    <tr>\n",
       "      <th>3</th>\n",
       "      <td>XGB</td>\n",
       "      <td>0.894737</td>\n",
       "      <td>0.894737</td>\n",
       "      <td>0.897959</td>\n",
       "      <td>0.926316</td>\n",
       "      <td>0.871287</td>\n",
       "      <td>0.959003</td>\n",
       "      <td>[[164, 26], [14, 176]]</td>\n",
       "    </tr>\n",
       "    <tr>\n",
       "      <th>4</th>\n",
       "      <td>LGB</td>\n",
       "      <td>0.831579</td>\n",
       "      <td>0.831579</td>\n",
       "      <td>0.837563</td>\n",
       "      <td>0.868421</td>\n",
       "      <td>0.808824</td>\n",
       "      <td>0.898892</td>\n",
       "      <td>[[151, 39], [25, 165]]</td>\n",
       "    </tr>\n",
       "    <tr>\n",
       "      <th>5</th>\n",
       "      <td>KNN</td>\n",
       "      <td>0.807895</td>\n",
       "      <td>0.807895</td>\n",
       "      <td>0.828235</td>\n",
       "      <td>0.926316</td>\n",
       "      <td>0.748936</td>\n",
       "      <td>0.820623</td>\n",
       "      <td>[[131, 59], [14, 176]]</td>\n",
       "    </tr>\n",
       "    <tr>\n",
       "      <th>6</th>\n",
       "      <td>SVC</td>\n",
       "      <td>0.910526</td>\n",
       "      <td>0.910526</td>\n",
       "      <td>0.915423</td>\n",
       "      <td>0.968421</td>\n",
       "      <td>0.867925</td>\n",
       "      <td>0.982188</td>\n",
       "      <td>[[162, 28], [6, 184]]</td>\n",
       "    </tr>\n",
       "    <tr>\n",
       "      <th>7</th>\n",
       "      <td>GNB</td>\n",
       "      <td>0.584211</td>\n",
       "      <td>0.584211</td>\n",
       "      <td>0.644144</td>\n",
       "      <td>0.752632</td>\n",
       "      <td>0.562992</td>\n",
       "      <td>0.587285</td>\n",
       "      <td>[[79, 111], [47, 143]]</td>\n",
       "    </tr>\n",
       "    <tr>\n",
       "      <th>8</th>\n",
       "      <td>Stacking</td>\n",
       "      <td>0.931579</td>\n",
       "      <td>0.931579</td>\n",
       "      <td>0.932642</td>\n",
       "      <td>0.947368</td>\n",
       "      <td>0.918367</td>\n",
       "      <td>0.983158</td>\n",
       "      <td>[[174, 16], [10, 180]]</td>\n",
       "    </tr>\n",
       "  </tbody>\n",
       "</table>\n",
       "</div>"
      ],
      "text/plain": [
       "      Model  Accuracy  Balanced Accuracy        F1    Recall  Precision  \\\n",
       "0        LR  0.839474           0.839474  0.848635  0.900000   0.802817   \n",
       "1        RF  0.868421           0.868421  0.868421  0.868421   0.868421   \n",
       "2   Bagging  0.842105           0.842105  0.848485  0.884211   0.815534   \n",
       "3       XGB  0.894737           0.894737  0.897959  0.926316   0.871287   \n",
       "4       LGB  0.831579           0.831579  0.837563  0.868421   0.808824   \n",
       "5       KNN  0.807895           0.807895  0.828235  0.926316   0.748936   \n",
       "6       SVC  0.910526           0.910526  0.915423  0.968421   0.867925   \n",
       "7       GNB  0.584211           0.584211  0.644144  0.752632   0.562992   \n",
       "8  Stacking  0.931579           0.931579  0.932642  0.947368   0.918367   \n",
       "\n",
       "    ROC-AUC        Confusion Matrix  \n",
       "0  0.904155  [[148, 42], [19, 171]]  \n",
       "1  0.924515  [[165, 25], [25, 165]]  \n",
       "2  0.928781  [[152, 38], [22, 168]]  \n",
       "3  0.959003  [[164, 26], [14, 176]]  \n",
       "4  0.898892  [[151, 39], [25, 165]]  \n",
       "5  0.820623  [[131, 59], [14, 176]]  \n",
       "6  0.982188   [[162, 28], [6, 184]]  \n",
       "7  0.587285  [[79, 111], [47, 143]]  \n",
       "8  0.983158  [[174, 16], [10, 180]]  "
      ]
     },
     "execution_count": 16,
     "metadata": {},
     "output_type": "execute_result"
    },
    {
     "data": {
      "image/png": "[encoded data removed]",
      "text/plain": [
       "<Figure size 640x480 with 2 Axes>"
      ]
     },
     "metadata": {},
     "output_type": "display_data"
    }
   ],
   "source": [
    "level0 = list()\n",
    "level0.append(('LogReg', logreg))\n",
    "level0.append(('RF', RF))\n",
    "level0.append(('XGB', XGB))\n",
    "level0.append(('LGB', lgb_classifier))\n",
    "level0.append(('KNN',KNN))\n",
    "level0.append(('SVC', SVCClassifier))\n",
    "level0.append(('GNB', GNB))\n",
    "level1 = LogisticRegression(solver='liblinear')\n",
    "\n",
    "stack = StackingClassifier(estimators=level0, final_estimator=level1, cv=5)\n",
    "stack.fit(X_train, y_train)\n",
    "metrics(stack,'Stacking')"
   ]
  },
  {
   "cell_type": "markdown",
   "metadata": {},
   "source": [
    "#### Saving Models"
   ]
  },
  {
   "cell_type": "code",
   "execution_count": 19,
   "metadata": {},
   "outputs": [
    {
     "data": {
      "text/plain": [
       "['regular/bagging_model.pkl']"
      ]
     },
     "execution_count": 19,
     "metadata": {},
     "output_type": "execute_result"
    }
   ],
   "source": [
    "import joblib\n",
    "joblib.dump(logreg, 'oversampled/logreg_model.pkl')\n",
    "joblib.dump(RF, 'oversampled/RF_model.pkl')\n",
    "joblib.dump(XGB, 'oversampled/XGB_model.pkl')\n",
    "joblib.dump(lgb_classifier, 'oversampled/lgb_classifier_model.pkl')\n",
    "joblib.dump(KNN, 'oversampled/KNN_model.pkl')\n",
    "joblib.dump(SVCClassifier, 'oversampled/SVCClassifier_model.pkl')\n",
    "joblib.dump(GNB, 'oversampled/GNB_model.pkl')\n",
    "joblib.dump(stack, 'oversampled/stack_model.pkl')\n",
    "joblib.dump(bagging, 'regular/bagging_model.pkl')\n"
   ]
  },
  {
   "cell_type": "markdown",
   "metadata": {},
   "source": [
    "#### Loading Models"
   ]
  },
  {
   "cell_type": "code",
   "execution_count": null,
   "metadata": {},
   "outputs": [],
   "source": []
  },
  {
   "cell_type": "code",
   "execution_count": null,
   "metadata": {},
   "outputs": [],
   "source": [
    "logreg = joblib.load('oversampled/logreg_model.pkl')\n",
    "RF = joblib.load('oversampled/RF_model.pkl')\n",
    "XGB = joblib.load('oversampled/XGB_model.pkl')\n",
    "lgb_classifier = joblib.load('oversampled/lgb_classifier_model.pkl')\n",
    "KNN = joblib.load('oversampled/KNN_model.pkl')\n",
    "SVCClassifier = joblib.load('oversampled/SVCClassifier_model.pkl')\n",
    "GNB = joblib.load('oversampled/GNB_model.pkl')\n",
    "stack = joblib.load('oversampled/stack_model.pkl')\n",
    "bagging = joblib.load('oversampled/bagging_model.pkl')"
   ]
  },
  {
   "cell_type": "markdown",
   "metadata": {},
   "source": [
    "#### Result Analysis"
   ]
  },
  {
   "cell_type": "code",
   "execution_count": 17,
   "metadata": {},
   "outputs": [
    {
     "data": {
      "text/html": [
       "<div>\n",
       "<style scoped>\n",
       "    .dataframe tbody tr th:only-of-type {\n",
       "        vertical-align: middle;\n",
       "    }\n",
       "\n",
       "    .dataframe tbody tr th {\n",
       "        vertical-align: top;\n",
       "    }\n",
       "\n",
       "    .dataframe thead th {\n",
       "        text-align: right;\n",
       "    }\n",
       "</style>\n",
       "<table border=\"1\" class=\"dataframe\">\n",
       "  <thead>\n",
       "    <tr style=\"text-align: right;\">\n",
       "      <th></th>\n",
       "      <th>Model</th>\n",
       "      <th>Accuracy</th>\n",
       "      <th>Balanced Accuracy</th>\n",
       "      <th>F1</th>\n",
       "      <th>Recall</th>\n",
       "      <th>Precision</th>\n",
       "      <th>ROC-AUC</th>\n",
       "      <th>Confusion Matrix</th>\n",
       "    </tr>\n",
       "  </thead>\n",
       "  <tbody>\n",
       "    <tr>\n",
       "      <th>0</th>\n",
       "      <td>LR</td>\n",
       "      <td>0.839474</td>\n",
       "      <td>0.839474</td>\n",
       "      <td>0.848635</td>\n",
       "      <td>0.900000</td>\n",
       "      <td>0.802817</td>\n",
       "      <td>0.904155</td>\n",
       "      <td>[[148, 42], [19, 171]]</td>\n",
       "    </tr>\n",
       "    <tr>\n",
       "      <th>1</th>\n",
       "      <td>RF</td>\n",
       "      <td>0.868421</td>\n",
       "      <td>0.868421</td>\n",
       "      <td>0.868421</td>\n",
       "      <td>0.868421</td>\n",
       "      <td>0.868421</td>\n",
       "      <td>0.924515</td>\n",
       "      <td>[[165, 25], [25, 165]]</td>\n",
       "    </tr>\n",
       "    <tr>\n",
       "      <th>2</th>\n",
       "      <td>Bagging</td>\n",
       "      <td>0.842105</td>\n",
       "      <td>0.842105</td>\n",
       "      <td>0.848485</td>\n",
       "      <td>0.884211</td>\n",
       "      <td>0.815534</td>\n",
       "      <td>0.928781</td>\n",
       "      <td>[[152, 38], [22, 168]]</td>\n",
       "    </tr>\n",
       "    <tr>\n",
       "      <th>3</th>\n",
       "      <td>XGB</td>\n",
       "      <td>0.894737</td>\n",
       "      <td>0.894737</td>\n",
       "      <td>0.897959</td>\n",
       "      <td>0.926316</td>\n",
       "      <td>0.871287</td>\n",
       "      <td>0.959003</td>\n",
       "      <td>[[164, 26], [14, 176]]</td>\n",
       "    </tr>\n",
       "    <tr>\n",
       "      <th>4</th>\n",
       "      <td>LGB</td>\n",
       "      <td>0.831579</td>\n",
       "      <td>0.831579</td>\n",
       "      <td>0.837563</td>\n",
       "      <td>0.868421</td>\n",
       "      <td>0.808824</td>\n",
       "      <td>0.898892</td>\n",
       "      <td>[[151, 39], [25, 165]]</td>\n",
       "    </tr>\n",
       "    <tr>\n",
       "      <th>5</th>\n",
       "      <td>KNN</td>\n",
       "      <td>0.807895</td>\n",
       "      <td>0.807895</td>\n",
       "      <td>0.828235</td>\n",
       "      <td>0.926316</td>\n",
       "      <td>0.748936</td>\n",
       "      <td>0.820623</td>\n",
       "      <td>[[131, 59], [14, 176]]</td>\n",
       "    </tr>\n",
       "    <tr>\n",
       "      <th>6</th>\n",
       "      <td>SVC</td>\n",
       "      <td>0.910526</td>\n",
       "      <td>0.910526</td>\n",
       "      <td>0.915423</td>\n",
       "      <td>0.968421</td>\n",
       "      <td>0.867925</td>\n",
       "      <td>0.982188</td>\n",
       "      <td>[[162, 28], [6, 184]]</td>\n",
       "    </tr>\n",
       "    <tr>\n",
       "      <th>7</th>\n",
       "      <td>GNB</td>\n",
       "      <td>0.584211</td>\n",
       "      <td>0.584211</td>\n",
       "      <td>0.644144</td>\n",
       "      <td>0.752632</td>\n",
       "      <td>0.562992</td>\n",
       "      <td>0.587285</td>\n",
       "      <td>[[79, 111], [47, 143]]</td>\n",
       "    </tr>\n",
       "    <tr>\n",
       "      <th>8</th>\n",
       "      <td>Stacking</td>\n",
       "      <td>0.931579</td>\n",
       "      <td>0.931579</td>\n",
       "      <td>0.932642</td>\n",
       "      <td>0.947368</td>\n",
       "      <td>0.918367</td>\n",
       "      <td>0.983158</td>\n",
       "      <td>[[174, 16], [10, 180]]</td>\n",
       "    </tr>\n",
       "  </tbody>\n",
       "</table>\n",
       "</div>"
      ],
      "text/plain": [
       "      Model  Accuracy  Balanced Accuracy        F1    Recall  Precision  \\\n",
       "0        LR  0.839474           0.839474  0.848635  0.900000   0.802817   \n",
       "1        RF  0.868421           0.868421  0.868421  0.868421   0.868421   \n",
       "2   Bagging  0.842105           0.842105  0.848485  0.884211   0.815534   \n",
       "3       XGB  0.894737           0.894737  0.897959  0.926316   0.871287   \n",
       "4       LGB  0.831579           0.831579  0.837563  0.868421   0.808824   \n",
       "5       KNN  0.807895           0.807895  0.828235  0.926316   0.748936   \n",
       "6       SVC  0.910526           0.910526  0.915423  0.968421   0.867925   \n",
       "7       GNB  0.584211           0.584211  0.644144  0.752632   0.562992   \n",
       "8  Stacking  0.931579           0.931579  0.932642  0.947368   0.918367   \n",
       "\n",
       "    ROC-AUC        Confusion Matrix  \n",
       "0  0.904155  [[148, 42], [19, 171]]  \n",
       "1  0.924515  [[165, 25], [25, 165]]  \n",
       "2  0.928781  [[152, 38], [22, 168]]  \n",
       "3  0.959003  [[164, 26], [14, 176]]  \n",
       "4  0.898892  [[151, 39], [25, 165]]  \n",
       "5  0.820623  [[131, 59], [14, 176]]  \n",
       "6  0.982188   [[162, 28], [6, 184]]  \n",
       "7  0.587285  [[79, 111], [47, 143]]  \n",
       "8  0.983158  [[174, 16], [10, 180]]  "
      ]
     },
     "execution_count": 17,
     "metadata": {},
     "output_type": "execute_result"
    }
   ],
   "source": [
    "result"
   ]
  },
  {
   "cell_type": "code",
   "execution_count": 18,
   "metadata": {},
   "outputs": [
    {
     "data": {
      "image/png": "[encoded data removed]",
      "text/plain": [
       "<Figure size 1000x800 with 1 Axes>"
      ]
     },
     "metadata": {},
     "output_type": "display_data"
    }
   ],
   "source": [
    "def get_roc_auc_scores_and_curves(models, X_test, y_test):\n",
    "    ns_probs = [0 for _ in range(len(y_test))]\n",
    "    ns_auc = roc_auc_score(y_test, ns_probs)\n",
    "    ns_fpr, ns_tpr, _ = roc_curve(y_test, ns_probs)    \n",
    "    roc_data = {'No Skill': (ns_fpr, ns_tpr)}\n",
    "    \n",
    "    for name, model in models:\n",
    "        if hasattr(model, 'predict_proba'):\n",
    "            probs = model.predict_proba(X_test)[:, 1]\n",
    "        else:\n",
    "            if hasattr(model, 'decision_function'):\n",
    "                decision_scores = model.decision_function(X_test)\n",
    "                probs = (decision_scores - decision_scores.min()) / (decision_scores.max() - decision_scores.min())\n",
    "            else:\n",
    "                raise AttributeError(f\"{name} does not have predict_proba or decision_function\")\n",
    "        \n",
    "        auc = roc_auc_score(y_test, probs)\n",
    "        fpr, tpr, _ = roc_curve(y_test, probs)\n",
    "        roc_data[name] = (fpr, tpr)\n",
    "    \n",
    "    return roc_data\n",
    "\n",
    "models = level0 + [('Stacking', stack),('Bagging',bagging)]\n",
    "roc_data = get_roc_auc_scores_and_curves(models, X_test, y_test)\n",
    "plt.figure(figsize=(10, 8))\n",
    "for model_name, (fpr, tpr) in roc_data.items():\n",
    "    plt.plot(fpr, tpr, label=model_name)\n",
    "plt.xlabel('False Positive Rate')\n",
    "plt.ylabel('True Positive Rate')\n",
    "plt.title('ROC Curves')\n",
    "plt.legend()\n",
    "plt.show()"
   ]
  }
 ],
 "metadata": {
  "kernelspec": {
   "display_name": "Python 3",
   "language": "python",
   "name": "python3"
  },
  "language_info": {
   "codemirror_mode": {
    "name": "ipython",
    "version": 3
   },
   "file_extension": ".py",
   "mimetype": "text/x-python",
   "name": "python",
   "nbconvert_exporter": "python",
   "pygments_lexer": "ipython3",
   "version": "3.9.6"
  }
 },
 "nbformat": 4,
 "nbformat_minor": 2
}
